{
 "cells": [
  {
   "cell_type": "code",
   "execution_count": 1,
   "id": "a5689bd4",
   "metadata": {
    "colab": {
     "base_uri": "https://localhost:8080/",
     "height": 35
    },
    "executionInfo": {
     "elapsed": 625,
     "status": "ok",
     "timestamp": 1678771927153,
     "user": {
      "displayName": "Shreenidhi Hariharan",
      "userId": "08773739021117334119"
     },
     "user_tz": -330
    },
    "id": "a5689bd4",
    "outputId": "2a4605b4-f3fe-4db3-8e58-1702aff10f3b"
   },
   "outputs": [
    {
     "data": {
      "text/plain": [
       "'C:\\\\Users\\\\hornt\\\\Desktop\\\\PROJECT WORKS\\\\DNA Sequence Translation'"
      ]
     },
     "execution_count": 1,
     "metadata": {},
     "output_type": "execute_result"
    }
   ],
   "source": [
    "pwd"
   ]
  },
  {
   "cell_type": "code",
   "execution_count": 5,
   "id": "tqwUdnJwmluG",
   "metadata": {
    "id": "tqwUdnJwmluG"
   },
   "outputs": [
    {
     "data": {
      "text/plain": [
       "'C:/Users/hornt/Desktop/PROJECT WORKS/DNA Sequence Translation/Dna sequence.txt'"
      ]
     },
     "execution_count": 5,
     "metadata": {},
     "output_type": "execute_result"
    }
   ],
   "source": [
    "inputfile = \"C:/Users/hornt/Desktop/PROJECT WORKS/DNA Sequence Translation/Dna sequence.txt\"\n",
    "inputfile"
   ]
  },
  {
   "cell_type": "markdown",
   "id": "6216aa35",
   "metadata": {
    "id": "6216aa35"
   },
   "source": [
    "### Reading Files  "
   ]
  },
  {
   "cell_type": "code",
   "execution_count": 6,
   "id": "ee9ee629",
   "metadata": {
    "colab": {
     "base_uri": "https://localhost:8080/",
     "height": 235
    },
    "executionInfo": {
     "elapsed": 5,
     "status": "error",
     "timestamp": 1678771921821,
     "user": {
      "displayName": "Shreenidhi Hariharan",
      "userId": "08773739021117334119"
     },
     "user_tz": -330
    },
    "id": "ee9ee629",
    "outputId": "761648b3-2d59-42dc-e6b7-57a92e9a0346"
   },
   "outputs": [
    {
     "name": "stdout",
     "output_type": "stream",
     "text": [
      "1173\n"
     ]
    },
    {
     "data": {
      "text/plain": [
       "'GGTCAGAAAAAGCCCTCTCCATGTCTACTCACGATACATCCCTGAAAACCACTGAGGAAGTGGCTTTTCA\\nGATCATCTTGCTTTGCCAGTTTGGGGTTGGGACTTTTGCCAATGTATTTCTCTTTGTCTATAATTTCTCT\\nCCAATCTCGACTGGTTCTAAACAGAGGCCCAGACAAGTGATTTTAAGACACATGGCTGTGGCCAATGCCT\\nTAACTCTCTTCCTCACTATATTTCCAAACAACATGATGACTTTTGCTCCAATTATTCCTCAAACTGACCT\\nCAAATGTAAATTAGAATTCTTCACTCGCCTCGTGGCAAGAAGCACAAACTTGTGTTCAACTTGTGTTCTG\\nAGTATCCATCAGTTTGTCACACTTGTTCCTGTTAATTCAGGTAAAGGAATACTCAGAGCAAGTGTCACAA\\nACATGGCAAGTTATTCTTGTTACAGTTGTTGGTTCTTCAGTGTCTTAAATAACATCTACATTCCAATTAA\\nGGTCACTGGTCCACAGTTAACAGACAATAACAATAACTCTAAAAGCAAGTTGTTCTGTTCCACTTCTGAT\\nTTCAGTGTAGGCATTGTCTTCTTGAGGTTTGCCCATGATGCCACATTCATGAGCATCATGGTCTGGACCA\\nGTGTCTCCATGGTACTTCTCCTCCATAGACATTGTCAGAGAATGCAGTACATATTCACTCTCAATCAGGA\\nCCCCAGGGGCCAAGCAGAGACCACAGCAACCCATACTATCCTGATGCTGGTAGTCACATTTGTTGGCTTT\\nTATCTTCTAAGTCTTATTTGTATCATCTTTTACACCTATTTTATATATTCTCATCATTCCCTGAGGCATT\\nGCAATGACATTTTGGTTTCGGGTTTCCCTACAATTTCTCCTTTACTGTTGACCTTCAGAGACCCTAAGGG\\nTCCTTGTTCTGTGTTCTTCAACTGTTGAAAGCCAGAGTCACTAAAAATGCCAAACACAGAAGACAGCTTT\\nGCTAATACCATTAAATACTTTATTCCATAAATATGTTTTTAAAAGCTTGTATGAACAAGGTATGGTGCTC\\nACTGCTATACTTATAAAAGAGTAAGGTTATAATCACTTGTTGATATGAAAAGATTTCTGGTTGGAATCTG\\nATTGAAACAGTGAGTTATTCACCACCCTCCATTCTCT'"
      ]
     },
     "execution_count": 6,
     "metadata": {},
     "output_type": "execute_result"
    }
   ],
   "source": [
    "#method 1 for reading files \n",
    "f =open(inputfile,\"r\")\n",
    "seq = f.read()\n",
    "print(len(seq))\n",
    "seq"
   ]
  },
  {
   "cell_type": "code",
   "execution_count": 7,
   "id": "b909e4bc",
   "metadata": {
    "id": "b909e4bc",
    "outputId": "4465ec70-0e12-45c5-bdf3-ec8ae1d6e0cb"
   },
   "outputs": [
    {
     "name": "stdout",
     "output_type": "stream",
     "text": [
      "1157\n",
      "2\n",
      "First digit No G\n",
      "last digit of sequence T\n",
      "last digit of sequence T\n"
     ]
    },
    {
     "data": {
      "text/plain": [
       "'GGTCAGAAAAAGCCCTCTCCATGTCTACTCACGATACATCCCTGAAAACCACTGAGGAAGTGGCTTTTCAGATCATCTTGCTTTGCCAGTTTGGGGTTGGGACTTTTGCCAATGTATTTCTCTTTGTCTATAATTTCTCTCCAATCTCGACTGGTTCTAAACAGAGGCCCAGACAAGTGATTTTAAGACACATGGCTGTGGCCAATGCCTTAACTCTCTTCCTCACTATATTTCCAAACAACATGATGACTTTTGCTCCAATTATTCCTCAAACTGACCTCAAATGTAAATTAGAATTCTTCACTCGCCTCGTGGCAAGAAGCACAAACTTGTGTTCAACTTGTGTTCTGAGTATCCATCAGTTTGTCACACTTGTTCCTGTTAATTCAGGTAAAGGAATACTCAGAGCAAGTGTCACAAACATGGCAAGTTATTCTTGTTACAGTTGTTGGTTCTTCAGTGTCTTAAATAACATCTACATTCCAATTAAGGTCACTGGTCCACAGTTAACAGACAATAACAATAACTCTAAAAGCAAGTTGTTCTGTTCCACTTCTGATTTCAGTGTAGGCATTGTCTTCTTGAGGTTTGCCCATGATGCCACATTCATGAGCATCATGGTCTGGACCAGTGTCTCCATGGTACTTCTCCTCCATAGACATTGTCAGAGAATGCAGTACATATTCACTCTCAATCAGGACCCCAGGGGCCAAGCAGAGACCACAGCAACCCATACTATCCTGATGCTGGTAGTCACATTTGTTGGCTTTTATCTTCTAAGTCTTATTTGTATCATCTTTTACACCTATTTTATATATTCTCATCATTCCCTGAGGCATTGCAATGACATTTTGGTTTCGGGTTTCCCTACAATTTCTCCTTTACTGTTGACCTTCAGAGACCCTAAGGGTCCTTGTTCTGTGTTCTTCAACTGTTGAAAGCCAGAGTCACTAAAAATGCCAAACACAGAAGACAGCTTTGCTAATACCATTAAATACTTTATTCCATAAATATGTTTTTAAAAGCTTGTATGAACAAGGTATGGTGCTCACTGCTATACTTATAAAAGAGTAAGGTTATAATCACTTGTTGATATGAAAAGATTTCTGGTTGGAATCTGATTGAAACAGTGAGTTATTCACCACCCTCCATTCTCT'"
      ]
     },
     "execution_count": 7,
     "metadata": {},
     "output_type": "execute_result"
    }
   ],
   "source": [
    "#remove \\n\n",
    "seq =seq.replace(\"\\n\",\"\")\n",
    "print(len(seq))\n",
    "print(len(seq)%3) #sequence is not divisible by 3 \n",
    "print(\"First digit No\",seq[0])\n",
    "print(\"last digit of sequence\",seq[-1])\n",
    "print(\"last digit of sequence\",seq[1156])\n",
    "seq\n"
   ]
  },
  {
   "cell_type": "code",
   "execution_count": 8,
   "id": "mO0lOtMqirzv",
   "metadata": {
    "executionInfo": {
     "elapsed": 3,
     "status": "ok",
     "timestamp": 1678955480426,
     "user": {
      "displayName": "Shreenidhi Hariharan",
      "userId": "08773739021117334119"
     },
     "user_tz": -330
    },
    "id": "mO0lOtMqirzv"
   },
   "outputs": [],
   "source": [
    "inputfile ='GGTCAGAAAAAGCCCTCTCCATGTCTACTCACGATACATCCCTGAAAACCACTGAGGAAGTGGCTTTTCAGATCATCTTGCTTTGCCAGTTTGGGGTTGGGACTTTTGCCAATGTATTTCTCTTTGTCTATAATTTCTCTCCAATCTCGACTGGTTCTAAACAGAGGCCCAGACAAGTGATTTTAAGACACATGGCTGTGGCCAATGCCTTAACTCTCTTCCTCACTATATTTCCAAACAACATGATGACTTTTGCTCCAATTATTCCTCAAACTGACCTCAAATGTAAATTAGAATTCTTCACTCGCCTCGTGGCAAGAAGCACAAACTTGTGTTCAACTTGTGTTCTGAGTATCCATCAGTTTGTCACACTTGTTCCTGTTAATTCAGGTAAAGGAATACTCAGAGCAAGTGTCACAAACATGGCAAGTTATTCTTGTTACAGTTGTTGGTTCTTCAGTGTCTTAAATAACATCTACATTCCAATTAAGGTCACTGGTCCACAGTTAACAGACAATAACAATAACTCTAAAAGCAAGTTGTTCTGTTCCACTTCTGATTTCAGTGTAGGCATTGTCTTCTTGAGGTTTGCCCATGATGCCACATTCATGAGCATCATGGTCTGGACCAGTGTCTCCATGGTACTTCTCCTCCATAGACATTGTCAGAGAATGCAGTACATATTCACTCTCAATCAGGACCCCAGGGGCCAAGCAGAGACCACAGCAACCCATACTATCCTGATGCTGGTAGTCACATTTGTTGGCTTTTATCTTCTAAGTCTTATTTGTATCATCTTTTACACCTATTTTATATATTCTCATCATTCCCTGAGGCATTGCAATGACATTTTGGTTTCGGGTTTCCCTACAATTTCTCCTTTACTGTTGACCTTCAGAGACCCTAAGGGTCCTTGTTCTGTGTTCTTCAACTGTTGAAAGCCAGAGTCACTAAAAATGCCAAACACAGAAGACAGCTTTGCTAATACCATTAAATACTTTATTCCATAAATATGTTTTTAAAAGCTTGTATGAACAAGGTATGGTGCTCACTGCTATACTTATAAAAGAGTAAGGTTATAATCACTTGTTGATATGAAAAGATTTCTGGTTGGAATCTGATTGAAACAGTGAGTTATTCACCACCCTCCATTCTCT'"
   ]
  },
  {
   "cell_type": "markdown",
   "id": "c08441cf",
   "metadata": {
    "id": "c08441cf"
   },
   "source": [
    "## Fn for reading text files "
   ]
  },
  {
   "cell_type": "code",
   "execution_count": 9,
   "id": "f2b6c4f4",
   "metadata": {
    "executionInfo": {
     "elapsed": 390,
     "status": "ok",
     "timestamp": 1678955696691,
     "user": {
      "displayName": "Shreenidhi Hariharan",
      "userId": "08773739021117334119"
     },
     "user_tz": -330
    },
    "id": "f2b6c4f4"
   },
   "outputs": [],
   "source": [
    "def read_seq(inputfile):\n",
    "    with open(inputfile,\"r\") as f:\n",
    "        seq = f.read() \n",
    "        \n",
    "    \n",
    "        import re \n",
    "        char_to_remove = [\"\\n\", \"\\r\", \" \"]\n",
    "        lst2 =list(range(10))\n",
    "\n",
    "        for i in range(0,len(lst2)):\n",
    "            x =str(lst2[i])  \n",
    "            char_to_remove.append(x)\n",
    "    \n",
    "        char_to_remove #combine all the list of characters to append to the list\n",
    "            \n",
    "        seq = re.sub(\"|\".join(char_to_remove), \"\", seq)\n",
    "        \n",
    "        return(\"Length of initial text file:\",len(f.read()),\n",
    "               \"length og processed text file:\",len(seq),\n",
    "               seq)\n",
    "\n",
    "            "
   ]
  },
  {
   "cell_type": "markdown",
   "id": "0d17d7bf",
   "metadata": {
    "id": "0d17d7bf"
   },
   "source": [
    "### Fn Code for DNA Translation to protein"
   ]
  },
  {
   "cell_type": "code",
   "execution_count": 10,
   "id": "54928565",
   "metadata": {
    "executionInfo": {
     "elapsed": 450,
     "status": "ok",
     "timestamp": 1678955703712,
     "user": {
      "displayName": "Shreenidhi Hariharan",
      "userId": "08773739021117334119"
     },
     "user_tz": -330
    },
    "id": "54928565"
   },
   "outputs": [],
   "source": [
    "#creating fn definitions \n",
    "def translate_dna_protein(seq):\n",
    "    table = {\n",
    "    'ATA':'I', 'ATC':'I', 'ATT':'I', 'ATG':'M',\n",
    "    'ACA':'T', 'ACC':'T', 'ACG':'T', 'ACT':'T',\n",
    "    'AAC':'N', 'AAT':'N', 'AAA':'K', 'AAG':'K',\n",
    "    'AGC':'S', 'AGT':'S', 'AGA':'R', 'AGG':'R',\n",
    "    'CTA':'L', 'CTC':'L', 'CTG':'L', 'CTT':'L',\n",
    "    'CCA':'P', 'CCC':'P', 'CCG':'P', 'CCT':'P',\n",
    "    'CAC':'H', 'CAT':'H', 'CAA':'Q', 'CAG':'Q',\n",
    "    'CGA':'R', 'CGC':'R', 'CGG':'R', 'CGT':'R',\n",
    "    'GTA':'V', 'GTC':'V', 'GTG':'V', 'GTT':'V',\n",
    "    'GCA':'A', 'GCC':'A', 'GCG':'A', 'GCT':'A',\n",
    "    'GAC':'D', 'GAT':'D', 'GAA':'E', 'GAG':'E',\n",
    "    'GGA':'G', 'GGC':'G', 'GGG':'G', 'GGT':'G',\n",
    "    'TCA':'S', 'TCC':'S', 'TCG':'S', 'TCT':'S',\n",
    "    'TTC':'F', 'TTT':'F', 'TTA':'L', 'TTG':'L',\n",
    "    'TAC':'Y', 'TAT':'Y', 'TAA':'_', 'TAG':'_',\n",
    "    'TGC':'C', 'TGT':'C', 'TGA':'_', 'TGG':'W',\n",
    "    }\n",
    "\n",
    "    protein_seq =\"\"\n",
    "    for i in range(0,len(seq),3):\n",
    "        if i+3 <=len(seq):\n",
    "            code =seq[i:i+3]\n",
    "            protein_seq = protein_seq + table[code]\n",
    "        \n",
    "    return(protein_seq,\"length of the protein sequence is:\",len(protein_seq))\n",
    "\n"
   ]
  },
  {
   "cell_type": "code",
   "execution_count": 15,
   "id": "eba5ea3a",
   "metadata": {
    "colab": {
     "base_uri": "https://localhost:8080/",
     "height": 183
    },
    "executionInfo": {
     "elapsed": 17,
     "status": "error",
     "timestamp": 1679030365842,
     "user": {
      "displayName": "Shreenidhi Hariharan",
      "userId": "08773739021117334119"
     },
     "user_tz": -330
    },
    "id": "eba5ea3a",
    "outputId": "82bfa042-1d14-45c8-c220-889831a3c4c7"
   },
   "outputs": [
    {
     "data": {
      "text/plain": [
       "('G', 'length of the protein sequence is:', 1)"
      ]
     },
     "execution_count": 15,
     "metadata": {},
     "output_type": "execute_result"
    }
   ],
   "source": [
    "#callout for element in dictionary\n",
    "translate_dna_protein('GGT')"
   ]
  },
  {
   "cell_type": "markdown",
   "id": "6ae51405",
   "metadata": {
    "id": "6ae51405"
   },
   "source": [
    "### Check - Fn defn - for read & DNA Translation"
   ]
  },
  {
   "cell_type": "code",
   "execution_count": 14,
   "id": "6ba462ef",
   "metadata": {
    "colab": {
     "base_uri": "https://localhost:8080/",
     "height": 342
    },
    "executionInfo": {
     "elapsed": 423,
     "status": "error",
     "timestamp": 1678955722093,
     "user": {
      "displayName": "Shreenidhi Hariharan",
      "userId": "08773739021117334119"
     },
     "user_tz": -330
    },
    "id": "6ba462ef",
    "outputId": "f150526a-d8e1-4c61-b3f6-860080e9d2fe"
   },
   "outputs": [
    {
     "name": "stdout",
     "output_type": "stream",
     "text": [
      "('Length of initial text file:', 0, 'length og processed text file:', 1157, 'GGTCAGAAAAAGCCCTCTCCATGTCTACTCACGATACATCCCTGAAAACCACTGAGGAAGTGGCTTTTCAGATCATCTTGCTTTGCCAGTTTGGGGTTGGGACTTTTGCCAATGTATTTCTCTTTGTCTATAATTTCTCTCCAATCTCGACTGGTTCTAAACAGAGGCCCAGACAAGTGATTTTAAGACACATGGCTGTGGCCAATGCCTTAACTCTCTTCCTCACTATATTTCCAAACAACATGATGACTTTTGCTCCAATTATTCCTCAAACTGACCTCAAATGTAAATTAGAATTCTTCACTCGCCTCGTGGCAAGAAGCACAAACTTGTGTTCAACTTGTGTTCTGAGTATCCATCAGTTTGTCACACTTGTTCCTGTTAATTCAGGTAAAGGAATACTCAGAGCAAGTGTCACAAACATGGCAAGTTATTCTTGTTACAGTTGTTGGTTCTTCAGTGTCTTAAATAACATCTACATTCCAATTAAGGTCACTGGTCCACAGTTAACAGACAATAACAATAACTCTAAAAGCAAGTTGTTCTGTTCCACTTCTGATTTCAGTGTAGGCATTGTCTTCTTGAGGTTTGCCCATGATGCCACATTCATGAGCATCATGGTCTGGACCAGTGTCTCCATGGTACTTCTCCTCCATAGACATTGTCAGAGAATGCAGTACATATTCACTCTCAATCAGGACCCCAGGGGCCAAGCAGAGACCACAGCAACCCATACTATCCTGATGCTGGTAGTCACATTTGTTGGCTTTTATCTTCTAAGTCTTATTTGTATCATCTTTTACACCTATTTTATATATTCTCATCATTCCCTGAGGCATTGCAATGACATTTTGGTTTCGGGTTTCCCTACAATTTCTCCTTTACTGTTGACCTTCAGAGACCCTAAGGGTCCTTGTTCTGTGTTCTTCAACTGTTGAAAGCCAGAGTCACTAAAAATGCCAAACACAGAAGACAGCTTTGCTAATACCATTAAATACTTTATTCCATAAATATGTTTTTAAAAGCTTGTATGAACAAGGTATGGTGCTCACTGCTATACTTATAAAAGAGTAAGGTTATAATCACTTGTTGATATGAAAAGATTTCTGGTTGGAATCTGATTGAAACAGTGAGTTATTCACCACCCTCCATTCTCT')\n",
      "('GQKKPSPCLLTIHP_KPLRKWLFRSSCFASLGLGLLPMYFSLSIISLQSRLVLNRGPDK_F_DTWLWPMP_LSSSLYFQTT__LLLQLFLKLTSNVN_NSSLASWQEAQTCVQLVF_VSISLSHLFLLIQVKEYSEQVSQTWQVILVTVVGSSVS_ITSTFQLRSLVHS_QTITITLKASCSVPLLISV_ALSS_GLPMMPHS_ASWSGPVSPWYFSSIDIVRECSTYSLSIRTPGAKQRPQQPILS_CW_SHLLAFIF_VLFVSSFTPILYILIIP_GIAMTFWFRVSLQFLLYC_PSETLRVLVLCSSTVESQSH_KCQTQKTALLIPLNTLFHKYVFKSLYEQGMVLTAILIKE_GYNHLLI_KDFWLESD_NSELFTTLHS', 'length of the protein sequence is:', 385)\n"
     ]
    }
   ],
   "source": [
    "inputfile = \"Dna sequence.txt\"\n",
    "print(read_seq(inputfile))\n",
    "print(translate_dna_protein(seq))"
   ]
  },
  {
   "cell_type": "code",
   "execution_count": 16,
   "id": "b7b75373",
   "metadata": {
    "id": "b7b75373",
    "outputId": "bfa1ba2d-59f1-4633-a55b-2f0223377a57"
   },
   "outputs": [
    {
     "name": "stdout",
     "output_type": "stream",
     "text": [
      "('G', 'length of the protein sequence is:', 1)\n",
      "('G', 'length of the protein sequence is:', 1)\n"
     ]
    }
   ],
   "source": [
    "print(translate_dna_protein('GGT'))\n",
    "print(translate_dna_protein('GGC'))"
   ]
  },
  {
   "cell_type": "code",
   "execution_count": 17,
   "id": "34cc13c2",
   "metadata": {
    "id": "34cc13c2",
    "outputId": "ee52e2c9-8198-4c83-d13b-b264a768d61c"
   },
   "outputs": [
    {
     "data": {
      "text/plain": [
       "('Length of initial text file:',\n",
       " 0,\n",
       " 'length og processed text file:',\n",
       " 5057,\n",
       " 'gtctacccgcgcgcccgagcgcggaaaccgaggggcaggctcgcgctctgcctgcttcgtggcgcttggttcgtccctcgcccgaggagcgcggtggcggcgtgggagggagcctctgacggcgtctgaaatacatatcgaatgattgaacaagatgactttgacattaacaccaggctacacacaattgtgaggggagaagatgaggcagccatggtggagtcagtaggcctggccctagtgaagctgccagatgtccttaatcgcctgaagcctgatatcatgattgttcatggagacaggtttgatgccctggctctggccacatctgctgccttgatgaacatccgaatccttcacattgaaggtggggaagtcagtgggaccattgatgactctatcagacatgccataacaaaactggctcattatcatgtgtgctgcacccgcagtgcagagcagcacctgatatccatgtgtgaggaccatgatcgcatccttttggcaggctgcccttcctatgacaaacttctctcagccaagaacaaagactacatgagcatcattcgcatgtggctaggtgatgatgtaaaatctaaagattacattgttgcactacagcaccctgtgaccactgacattaagcattccataaaaatgtttgaattaacattggatgcacttatctcatttaacaagcggaccctagtcctgtttccaaatattgacgcagggagcaaagagatggttcgagtgatgcggaagaagggcattgagcatcatcccaactttcgtgcagttaaacacgtcccatttgaccagtttatacagttggttgcccatgctggctgtatgattgggaacagcagctgtggggttcgagaagttggagcttttggaacacctgtgatcaacctgggaacacgtcagattggaagagaaacaggggagaatgttcttcatgtccgggatgctgacacccaagacaaaatattgcaagcactgcaccttcagtttggtaaacagtacccttgttcaaagatatatggggatggaaatgctgttccaaggattttgaagtttctcaaatctatcgatcttcaagagccactgcaaaagaaattctgctttcctcctgtgaaggagaatatctctcaagatattgaccatattcttgaaactctaagtgccttggccgttgatcttggcgggacgaacctccgagttgcaatagtcagcatgaagggtgaaatagttaagaagtatactcagttcaatcctaaaacctatgaagagaggattaatttaatcctacagatgtgtgtggaagctgcagcagaagctgtaaaactgaactgcagaattttgggagtaggcatttccacaggtggccgtgtaaatcctcgggaaggaattgtgctgcattcaaccaaactgatccaagagtggaactctgtggaccttaggacccccctttctgacactttgcatctccctgtgtgggtagacaatgatggcaactgtgctgccctggcggaaaggaaatttggccaaggaaagggactggaaaactttgttacacttatcacaggcacaggaatcggtggtggaattatccatcagcatgaattgatccacggaagctccttctgtgctgcagaactgggccaccttgttgtgtctctggatgggcctgattgttcctgtggaagccatgggtgcattgaagcatacgcctctggaatggccttgcagagggaggcaaaaaagctccatgatgaggacctgctcttggtggaagggatgtcagtgccaaaagatgaggctgtgggtgcgctccatctcatccaagctgcgaaacttggcaatgcgaaggcccagagcatcctaagaacagctggaacagctttgggtcttggggttgtgaacatcctccataccatgaatccctcccttgtgatcctctccggagtcctggccagtcactatatccacattgtcaaagacgtcattcgccagcaggccttgtcctccgtgcaggacgtggatgtggtggtttcggatttggttgaccccgccctgctgggtgctgccagcatggttctggactacacaacacgcaggatctactagacctccaggaacagacatggaccttctctccagagctcctgagtggaatcaagttcttgtctttaggatgaccgtttcttaacaatcaaatctggtattgaactgcaggtgactttggcagagaaatgttttcacttttggtctcctcttccagagtcacctttccccactcctatttttgtagatgctattctttctgatgtcttcttactaggggtcattttagctcaaaccctgtaagttacagtcacaattttctgtgccaaagcagctacaataatagagaggaagccttcttagaactctgcttactaatgtattaataccactgagaccttcaggccttgcctgggatatcacttcatcctgaagtttgcattaataatccttccaggccgggcacagtggctcacgcctgtaatcccagcactttgggaggccgaggcgggcggatcacgaggtcaggagatcgagaccgccctggctaacatggtgaaacatggtgaaaccccgtctctactaaaaatacaaaaaattagctgggtgtggtggcgggtcccagctactcgggaggctgaggcaggagaatggcatgaaccagggaggcggagctggcagtgaactgagaccgcaccactgcactccagcctgggtgacagagcaagactccatctcaaaaataataataataaataataataataataataataataataataatccttccagctgggcgcagtggctcacgcctgtaatcccaacattttgggaggccgagatgggcggatcacctgaggtcaggagttcaagaccagcctggccaacatggtgaaaccccatctctactaaaatacaaaaattagccgggcgtggtggcatgtgcctgtagtcccagctactcgggaggctgaggcaggagaattgcttgaacccgggaggcggaggttgcagtgagccgagatcatgccactgcactccaccctgggtgacagagcgagactccgtctacacacacacacacacacacacacacatccttcctcctctaaccccaaactaagatcacagaaggtgatccagtcagagaacagagggaaatcttaccaggaagggcttaagtacacttttttttaaaacagctttattgtttttaaagcctacaatttgataagccttgacatatgtatacctgtgaaagcatcaccacaatcaagacactggacatatctatcactcccccatctcagatatcccccctaatcctggataccatttgttgaaagatgttattactctagctgaacttacaagagactttagaccagggatctaaattacagtggccttagtgaccttgtccttatcttcttaggacagctgagaagccactgggacttagagcctttaaaaggagattaactgtcccaaaaggatctttgctactgaccagcagacacttcttccttcagtagcctttcatactgtgttgagtaacaccctagggtgtccattaaagttttgagttttacctagagcccagagccatgaatcaggattctgtctacatgattcgtgttttcattggtgtcaaaatacaaaagccaaagttctggctatgaattgttaacttggaagaaatactaactgccaccacttattaagtgcctactgtgtgccaggctctgaactaggtgcttcatatacattatcctaaattatctcaacatatgaggtaggtgttttaatttttattttatagaacttggtgtgtttgactgttaagctatggggctagagagagggtttgatcccaggtccctctgtgcttttgctgctgagccacacaacctctcatttcaaaaacactttcaaaatgctaacatattctaattcactctaggccaccaaaaactttaatactaatatctgatttgtaaatgacttaatgtatccttgaccctatcagctgaatttaatgaaatattcctctctgctgtgaaattttaccagtatagtatttggtctagtgacaggtgttctatttttttgagacgggtctcactctgtcacccaggctggagtgcagtggctcaatgcaacctctgccccccaagttcaagtgattctcctgcctcagcctcttgagtagctgggattacaggcacatgcaccacgcccggctgatttttttttgtatttttagtagacagggtttcaccatgttggccaggctggtcttgaactcctgacctcaggtgatccgcccgcctctgcctcccaaagtgctgggattacaggtgtaagccatcacacctggccctagtgacaggtttttatgggtacttttagatgatctaagaaatcatgtgcatatatctttcagatttctattttgggaaaatgaaggtttctacaacatattgtttcagtgttcaaataaactgaaggactcaacattacatttgaactatatccttcctagtgggttagtgtgaaaaagagtttggctgattcctaaaactctgccagccctgcagtaatctccagggcctggttattgttcagacattccatggtgattcctgggaaggaagcttggctgctcagtttctgagtctggggtgagataatgttctgggaagggacatctgttctttggtgtaatctctcatggtgaaatctgctctgtacatcagacaattgcattgctaccaagtttcataccaaatatttgaaaggatggtattgaatctaaaaccaaatattagtttttattaaactcatgggaaggctaatatattccaacgtaaattattacatatggttaagtaattgcatgttaatttattttaatgtaaatatttttgttactgttctgagccaaattctaaagaaaaaataaatacatttccttgttgaaa')"
      ]
     },
     "execution_count": 17,
     "metadata": {},
     "output_type": "execute_result"
    }
   ],
   "source": [
    "file1= \"dna-NM_001374798.1.txt\"\n",
    "read_seq(file1)\n"
   ]
  },
  {
   "cell_type": "code",
   "execution_count": null,
   "id": "f61ce2d7",
   "metadata": {},
   "outputs": [],
   "source": []
  }
 ],
 "metadata": {
  "colab": {
   "provenance": []
  },
  "kernelspec": {
   "display_name": "Python 3 (ipykernel)",
   "language": "python",
   "name": "python3"
  },
  "language_info": {
   "codemirror_mode": {
    "name": "ipython",
    "version": 3
   },
   "file_extension": ".py",
   "mimetype": "text/x-python",
   "name": "python",
   "nbconvert_exporter": "python",
   "pygments_lexer": "ipython3",
   "version": "3.9.7"
  }
 },
 "nbformat": 4,
 "nbformat_minor": 5
}
