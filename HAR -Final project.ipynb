{
 "cells": [
  {
   "cell_type": "markdown",
   "id": "9011325b",
   "metadata": {},
   "source": [
    "### Importing Libraries  "
   ]
  },
  {
   "cell_type": "code",
   "execution_count": null,
   "id": "d495f015",
   "metadata": {},
   "outputs": [],
   "source": [
    "import pandas as pd\n",
    "import numpy as np\n",
    "import matplotlib.pyplot as plt\n",
    "import seaborn as sns\n",
    "import plotly.express as px\n",
    "\n",
    "import warnings\n",
    "warnings.filterwarnings(\"ignore\", category=FutureWarning)"
   ]
  },
  {
   "cell_type": "code",
   "execution_count": null,
   "id": "4872e261",
   "metadata": {},
   "outputs": [],
   "source": [
    "data = pd.read_csv('C:/Users/hornt/Desktop/PROJECT WORKS/Classification-HAR/test.csv')\n",
    "data.head()"
   ]
  },
  {
   "cell_type": "code",
   "execution_count": null,
   "id": "8f0fda68",
   "metadata": {},
   "outputs": [],
   "source": [
    "print(data.shape)\n",
    "data.columns"
   ]
  },
  {
   "cell_type": "markdown",
   "id": "04977805",
   "metadata": {},
   "source": [
    "### Pre-processing "
   ]
  },
  {
   "cell_type": "code",
   "execution_count": null,
   "id": "9e72d997",
   "metadata": {},
   "outputs": [],
   "source": [
    "data.Activity.value_counts()"
   ]
  },
  {
   "cell_type": "code",
   "execution_count": null,
   "id": "7f4e8dcf",
   "metadata": {},
   "outputs": [],
   "source": [
    "data.describe(include='all')"
   ]
  },
  {
   "cell_type": "code",
   "execution_count": null,
   "id": "80d9d234",
   "metadata": {},
   "outputs": [],
   "source": [
    "data.isna().sum()"
   ]
  },
  {
   "cell_type": "code",
   "execution_count": null,
   "id": "394b9959",
   "metadata": {},
   "outputs": [],
   "source": [
    "sns.heatmap(data.isna(),cbar =False)\n",
    "#hence no null values "
   ]
  },
  {
   "cell_type": "code",
   "execution_count": null,
   "id": "5d9a60a1",
   "metadata": {},
   "outputs": [],
   "source": [
    "activity_lst = sorted(list(data['Activity'].unique()))\n",
    "encoding = [1,2,3,4,5,6]\n",
    "\n",
    "activity ={activity_lst[i]: encoding[i] for i in range(len(activity))}\n",
    "data['Activity'] = data['Activity'].replace(activity)"
   ]
  },
  {
   "cell_type": "markdown",
   "id": "8f8a2cab",
   "metadata": {},
   "source": [
    "## MODEL BUILDING "
   ]
  },
  {
   "cell_type": "markdown",
   "id": "8ad7256f",
   "metadata": {},
   "source": [
    "### Importing Sklearn Libraries  "
   ]
  },
  {
   "cell_type": "code",
   "execution_count": null,
   "id": "166a5d97",
   "metadata": {},
   "outputs": [],
   "source": [
    "# Model Selection Libraries\n",
    "from sklearn.preprocessing import StandardScaler,MinMaxScaler,LabelEncoder\n",
    "from sklearn.model_selection import train_test_split\n",
    "from sklearn.model_selection import cross_val_score\n",
    "from sklearn.model_selection import KFold # for cross validation\n",
    "from sklearn.model_selection import GridSearchCV # for tuning parameter\n",
    "from sklearn.model_selection import RandomizedSearchCV  # Randomized search on hyper parameters.\n",
    "\n",
    "# Feature Selection Libraries\n",
    "from sklearn.feature_selection import RFE\n",
    "from sklearn.feature_selection import SelectFromModel\n",
    "\n",
    "#model building functions\n",
    "from sklearn.linear_model import LogisticRegression#\n",
    "from sklearn.ensemble import RandomForestClassifier#\n",
    "from sklearn.svm import SVC\n",
    "import xgboost as xgb\n",
    "from xgboost import XGBClassifier\n",
    "from sklearn.ensemble import AdaBoostClassifier\n",
    "from sklearn.neighbors import KNeighborsClassifier #KNN#\n",
    "from sklearn.tree import DecisionTreeClassifier#\n",
    "from sklearn.ensemble import ExtraTreesClassifier\n",
    "\n",
    "\n",
    "#Evaluation Metrics -Report\n",
    "from sklearn.metrics import accuracy_score, classification_report, precision_score, recall_score \n",
    "from sklearn.metrics import confusion_matrix, precision_recall_curve, roc_curve, auc, log_loss"
   ]
  },
  {
   "cell_type": "markdown",
   "id": "fcc96dc1",
   "metadata": {},
   "source": [
    "### Feature Engineering "
   ]
  },
  {
   "cell_type": "code",
   "execution_count": null,
   "id": "5b2bc548",
   "metadata": {},
   "outputs": [],
   "source": [
    "## Splitting training Columns \n",
    "X =data.iloc[:,[0,1,2,40,41,42,80,81,82,120,121,122,160,161,162,200,213,226,239,252]].values\n",
    "y =data['Activity'].values"
   ]
  },
  {
   "cell_type": "code",
   "execution_count": null,
   "id": "fd9e9d80",
   "metadata": {},
   "outputs": [],
   "source": [
    "#splitting train and test data\n",
    "from sklearn.model_selection import train_test_split\n",
    "\n",
    "#train, test model split\n",
    "X_train, X_test, y_train, y_test = train_test_split(X, y, test_size=0.2, random_state=0)\n",
    "print(X_train.shape, X_test.shape, y_train.shape,y_test.shape)\n",
    "\n",
    "\n",
    "#scaling the indepenndetn variable\n",
    "sc = MinMaxScaler()\n",
    "X_train = sc.fit_transform(X_train)\n",
    "X_test = sc.transform(X_test)"
   ]
  },
  {
   "cell_type": "code",
   "execution_count": null,
   "id": "9bae3998",
   "metadata": {},
   "outputs": [],
   "source": [
    "data.iloc[:,[0,1,2,40,41,42,80,81,82,120,121,122,160,161,162,200,213,226,239,252,265,344,345,346,423,424,425]].columns"
   ]
  },
  {
   "cell_type": "markdown",
   "id": "69a44d06",
   "metadata": {},
   "source": [
    "### Model Selection using Cross Val Scores"
   ]
  },
  {
   "cell_type": "code",
   "execution_count": null,
   "id": "abe8c560",
   "metadata": {},
   "outputs": [],
   "source": [
    "scorings =['accuracy','balanced_accuracy']\n",
    "#define a dataframe \n",
    "CrossVal_Test =pd.DataFrame( columns=['Model','accuracy','balanced_accuracy'])\n",
    "\n",
    "def score_models(model_name, model,i):   \n",
    "    score_lst =[]\n",
    "    score_lst.append(model_name)\n",
    "    for j in range(len(scorings)):\n",
    "        score = cross_val_score(model, X_train, y_train, cv=5, scoring= scorings[j])\n",
    "        #     print(\"{} average: {}\".format(model_name, score.mean()))\n",
    "        score_lst.append(score.mean())\n",
    "    CrossVal_Test.loc[i] =score_lst"
   ]
  },
  {
   "cell_type": "code",
   "execution_count": null,
   "id": "8c6dfc72",
   "metadata": {},
   "outputs": [],
   "source": [
    "models = {\"Logistic Regression\": LogisticRegression(),\n",
    "           \"DecisionTreeClassifier\":DecisionTreeClassifier(criterion=\"entropy\", max_depth = 4),\n",
    "          \"RandomForestClassifier\":RandomForestClassifier(),\n",
    "          \"ExtratreeClassifier\" :ExtraTreesClassifier()\n",
    "         }\n",
    "\n",
    "for i in range(len([*models])):\n",
    "    score_models([*models][i],models[[*models][i]],i)\n",
    "\n",
    "CrossVal_Test.head(10)   "
   ]
  },
  {
   "cell_type": "markdown",
   "id": "d84bc5a0",
   "metadata": {},
   "source": [
    "### Model Building "
   ]
  },
  {
   "cell_type": "code",
   "execution_count": null,
   "id": "14363aea",
   "metadata": {},
   "outputs": [],
   "source": []
  },
  {
   "cell_type": "code",
   "execution_count": null,
   "id": "254d33de",
   "metadata": {},
   "outputs": [],
   "source": []
  },
  {
   "cell_type": "code",
   "execution_count": null,
   "id": "d48283d1",
   "metadata": {},
   "outputs": [],
   "source": []
  }
 ],
 "metadata": {
  "kernelspec": {
   "display_name": "Python 3 (ipykernel)",
   "language": "python",
   "name": "python3"
  },
  "language_info": {
   "codemirror_mode": {
    "name": "ipython",
    "version": 3
   },
   "file_extension": ".py",
   "mimetype": "text/x-python",
   "name": "python",
   "nbconvert_exporter": "python",
   "pygments_lexer": "ipython3",
   "version": "3.9.7"
  }
 },
 "nbformat": 4,
 "nbformat_minor": 5
}
